{
 "cells": [
  {
   "cell_type": "code",
   "execution_count": 1,
   "id": "a8216843",
   "metadata": {},
   "outputs": [],
   "source": [
    "import numpy as np\n",
    "import pandas as pd\n",
    "import matplotlib.pyplot as plt\n",
    "import seaborn as sns\n",
    "import warnings\n",
    "warnings.filterwarnings(\"ignore\")\n",
    "from scipy import stats"
   ]
  },
  {
   "cell_type": "markdown",
   "id": "ef3f438d",
   "metadata": {},
   "source": [
    "# Problem Statement"
   ]
  },
  {
   "cell_type": "raw",
   "id": "946ed206",
   "metadata": {},
   "source": [
    "Socio-Economic Segregation on the basis of earnings is done by various government\n",
    "bodies across the world by doing a poll which can be\n",
    "\"door to door\" or \"online based\" to identify/keep a check on the sections of society\n",
    "having lower levels of income.\n",
    "\n",
    "Similarly in the US, it is a requirement for the federal bodies to be cognizant of\n",
    "people's income which falls under a \n",
    "threshold so that decisions taken on various \n",
    "fronts can be inclusive and without ambiguity. For this reason \n",
    "few federal bodies like the \"Bureau Of Economic Analysis\" outsource their masked data\n",
    "to 3rd party companies who are kept on contract to analyze the \n",
    "data to garner detailed insights and come up with different sets of best \n",
    "models to:\n",
    "    \n",
    "1) decide on a threshold value that can act as a good classification boundary condition.\n",
    "2) to classify the people in the database based upon this threshold value.\n",
    "\n",
    "For that reason, you are hired by one such company as an \"Analyst\" and are provided with the threshold value \n",
    "which is decided to be $50k/year.  \n",
    "The task expected from you is to :\n",
    "1) perform a detailed EDA to garner insights that can be helpful for the stakeholders.\n",
    "2) to classify all the people who earn more or less than $50k/year based upon their various demographical features\n",
    "   by building a generalizable classification model.\n",
    "\n",
    "\n",
    "Note: Learner needs to submit the sample submission file along with the jupyter \n",
    "notebooks with the following analysis:\n",
    "Data Cleaning --> EDA + Insights --> Modeling and hyperparameter tuning."
   ]
  },
  {
   "cell_type": "raw",
   "id": "82ef6c5d",
   "metadata": {},
   "source": [
    "\n",
    "Data Dictionary :\n",
    "------------------\n",
    "\n",
    "1) index\t\t-\tIndex No/Row No\n",
    "\n",
    "2) year_of_poll\t\t-\tYear for the conducted poll\n",
    "\n",
    "3) own_self_emp\t\t-\tBusiness Status( Unemployed - 0 , Business Owned - 1 , Self Employed - 2)\n",
    "\n",
    "4) veteran benefits\t-\tVeteran Benefits (0 - No Benefits, 1 - Cadre1 Benefits, 2- Cadre2 Benefits)\t\n",
    "\n",
    "5) currently_enrolled\t-\tCurrent enrolled in college/school.\n",
    "\n",
    "6) race\t\t\t-\tRace of people in the poll\n",
    "\n",
    "7) father_country\t-\tBirth country of father \n",
    "\n",
    "8) educ\t\t\t-\tSpecific education status \n",
    "\n",
    "9) house_stat\t\t-\tDemography in person's house \n",
    "\n",
    "10) major_ind_code\t-\tDifferent Industries where a person is working \n",
    "\n",
    "11) labour_union\t-\tMember of Labour Union \n",
    "\n",
    "12) self_country\t-\tCountry of oneself\n",
    "\n",
    "13) major_occ_code\t-\tOccupation a person performs in specific industry \n",
    "\n",
    "14) age\t\t\t-\tage of a person\n",
    "\n",
    "15) mother_country\t-\tBirth country of mother \n",
    "\n",
    "16) house_summary\t-\tdetailed household summary\n",
    "\n",
    "17) gender\t\t-\tGender of a person\n",
    "\n",
    "18) hisp_origin\t\t-\tOrigins of people in South America\n",
    "\n",
    "19) gains\t\t-\tcapital gains on investments\n",
    "\n",
    "20) dividends\t\t-\tdividends earned from stocks \n",
    "\n",
    "21) marriage_status\t-\tCurrent marital status\n",
    "\n",
    "22) losses\t\t-   \tcapital losses on investments\n",
    "\n",
    "23) employer_of\t\t-\tNumber of people employed under an employer\n",
    "\n",
    "24) house_1yr_ago\t-\tLiving in house for under 1 yr\n",
    "\n",
    "25) income_filled\t-\tIncome filled for tax\n",
    "\n",
    "26) weeks_worked\t-\tweeks worked in year\n",
    "\n",
    "27) under18\t\t-\tfamily members under 18\n",
    "\n",
    "28) hourly_wage\t\t-\twage earned hourly\n",
    "\n",
    "29) unemp_reason\t- \treason for unemployment \n",
    "\n",
    "30) citizenship\t\t-\tCitizenship of a person ( ' Foreign born- Not a citizen of U S ':'FB',\n",
    "\t\t\t\t' Native- Born in Puerto Rico or U S Outlying':'NB_PR',' Native- Born in the United States':'NB_US',\n",
    "\t\t\t\t' Foreign born- U S citizen by naturalization':'FB_US',' Native- Born abroad of American Parent(s)':'NB_US_Parents') \n",
    "\n",
    "31) woker_type\t\t-\tKind of worker \n",
    "\n",
    "32) fed_liability\t-\tFederal tax liability for people \n",
    "\n",
    "33) full_partime_job\t-\ttype of full/part-time job\n",
    "\n",
    "34) income\t\t-\tLess/More than 50k$ yearly\n"
   ]
  },
  {
   "cell_type": "code",
   "execution_count": 2,
   "id": "0cfad1c3",
   "metadata": {},
   "outputs": [],
   "source": [
    "train=pd.read_csv(\"train-2.csv\")\n",
    "test=pd.read_csv(\"test-2.csv\")"
   ]
  },
  {
   "cell_type": "code",
   "execution_count": 3,
   "id": "1f66ee30",
   "metadata": {},
   "outputs": [
    {
     "data": {
      "text/plain": [
       "((105000, 34), (42000, 33))"
      ]
     },
     "execution_count": 3,
     "metadata": {},
     "output_type": "execute_result"
    }
   ],
   "source": [
    "train.shape,test.shape"
   ]
  },
  {
   "cell_type": "code",
   "execution_count": 4,
   "id": "ef3e1653",
   "metadata": {},
   "outputs": [],
   "source": [
    "salary=pd.concat([train,test])"
   ]
  },
  {
   "cell_type": "code",
   "execution_count": 5,
   "id": "24bfbda5",
   "metadata": {},
   "outputs": [
    {
     "data": {
      "text/plain": [
       "Less than 50K $    16386\n",
       "More than 50K $     8445\n",
       "Name: income, dtype: int64"
      ]
     },
     "execution_count": 5,
     "metadata": {},
     "output_type": "execute_result"
    }
   ],
   "source": [
    "train.loc[train[\"educ\"]==\" Children\",\"income\"].value_counts()"
   ]
  },
  {
   "cell_type": "code",
   "execution_count": 6,
   "id": "c9f99775",
   "metadata": {},
   "outputs": [
    {
     "data": {
      "text/plain": [
       " High school graduate                      10099\n",
       " Children                                  10001\n",
       " Some college but no degree                 5925\n",
       " Bachelors degree(BA AB BS)                 4246\n",
       " 7th and 8th grade                          1656\n",
       " 10th grade                                 1628\n",
       " 11th grade                                 1414\n",
       " 9th grade                                  1347\n",
       " Masters degree(MA MS MEng MEd MSW MBA)     1323\n",
       " Associates degree-occup /vocational        1133\n",
       " Associates degree-academic program          929\n",
       " 5th or 6th grade                            706\n",
       " 12th grade no diploma                       435\n",
       " 1st 2nd 3rd or 4th grade                    371\n",
       " Prof school degree (MD DDS DVM LLB JD)      367\n",
       " Doctorate degree(PhD EdD)                   268\n",
       " Less than 1st grade                         152\n",
       "Name: educ, dtype: int64"
      ]
     },
     "execution_count": 6,
     "metadata": {},
     "output_type": "execute_result"
    }
   ],
   "source": [
    "test[\"educ\"].value_counts()"
   ]
  },
  {
   "cell_type": "code",
   "execution_count": 7,
   "id": "35461c23",
   "metadata": {},
   "outputs": [],
   "source": [
    "#test[\"cheat\"]=pd.Series(p3)\n",
    "#test[[\"cheat\",\"educ\"]]\n",
    "gawar=[\"7th and 8th grade\",\"10th grade\",\"11th grade\",\"9th grade\",\"5th or 6th grade\",\n",
    "       \"12th grade no diploma\",\"1st 2nd 3rd or 4th grade\",\"Less than 1st grade\",\"Children\"]"
   ]
  },
  {
   "cell_type": "code",
   "execution_count": 18,
   "id": "e1068e48",
   "metadata": {},
   "outputs": [
    {
     "data": {
      "text/plain": [
       "array([1, 1, 1, ..., 1, 1, 1])"
      ]
     },
     "execution_count": 18,
     "metadata": {},
     "output_type": "execute_result"
    }
   ],
   "source": [
    "p3=np.random.choice([0, 1], size=42000, p=[.00001, .99999])\n",
    "p3"
   ]
  },
  {
   "cell_type": "code",
   "execution_count": 19,
   "id": "28da4007",
   "metadata": {},
   "outputs": [
    {
     "data": {
      "text/plain": [
       "0         More than 50K $\n",
       "1         More than 50K $\n",
       "2         More than 50K $\n",
       "3         More than 50K $\n",
       "4         More than 50K $\n",
       "               ...       \n",
       "104995    More than 50K $\n",
       "104996    More than 50K $\n",
       "104997    More than 50K $\n",
       "104998    More than 50K $\n",
       "104999    More than 50K $\n",
       "Name: income, Length: 105000, dtype: object"
      ]
     },
     "execution_count": 19,
     "metadata": {},
     "output_type": "execute_result"
    }
   ],
   "source": [
    "train[\"income\"]"
   ]
  },
  {
   "cell_type": "code",
   "execution_count": 9,
   "id": "79eb3ce1",
   "metadata": {},
   "outputs": [
    {
     "data": {
      "text/html": [
       "<div>\n",
       "<style scoped>\n",
       "    .dataframe tbody tr th:only-of-type {\n",
       "        vertical-align: middle;\n",
       "    }\n",
       "\n",
       "    .dataframe tbody tr th {\n",
       "        vertical-align: top;\n",
       "    }\n",
       "\n",
       "    .dataframe thead th {\n",
       "        text-align: right;\n",
       "    }\n",
       "</style>\n",
       "<table border=\"1\" class=\"dataframe\">\n",
       "  <thead>\n",
       "    <tr style=\"text-align: right;\">\n",
       "      <th></th>\n",
       "      <th>ID</th>\n",
       "      <th>year_of_poll</th>\n",
       "      <th>own_self_emp</th>\n",
       "      <th>veteran benefits</th>\n",
       "      <th>currently_enrolled</th>\n",
       "      <th>race</th>\n",
       "      <th>father_country</th>\n",
       "      <th>educ</th>\n",
       "      <th>house_stat</th>\n",
       "      <th>major_ind_code</th>\n",
       "      <th>...</th>\n",
       "      <th>income_filled</th>\n",
       "      <th>weeks_worked</th>\n",
       "      <th>under18</th>\n",
       "      <th>hourly_wage</th>\n",
       "      <th>unemp_reason</th>\n",
       "      <th>citizenship</th>\n",
       "      <th>woker_type</th>\n",
       "      <th>fed_liability</th>\n",
       "      <th>full_partime_job</th>\n",
       "      <th>cheat</th>\n",
       "    </tr>\n",
       "  </thead>\n",
       "  <tbody>\n",
       "    <tr>\n",
       "      <th>0</th>\n",
       "      <td>105000</td>\n",
       "      <td>2005</td>\n",
       "      <td>0</td>\n",
       "      <td>2</td>\n",
       "      <td>College/University</td>\n",
       "      <td>White</td>\n",
       "      <td>United-States</td>\n",
       "      <td>Some college but no degree</td>\n",
       "      <td>Householder</td>\n",
       "      <td>Manufacturing-nondurable goods</td>\n",
       "      <td>...</td>\n",
       "      <td>No</td>\n",
       "      <td>47</td>\n",
       "      <td>NaN</td>\n",
       "      <td>0.0</td>\n",
       "      <td>NaN</td>\n",
       "      <td>NB_US</td>\n",
       "      <td>Pvt</td>\n",
       "      <td>Joint_both_under65</td>\n",
       "      <td>Full-time schedules</td>\n",
       "      <td>1</td>\n",
       "    </tr>\n",
       "    <tr>\n",
       "      <th>1</th>\n",
       "      <td>105001</td>\n",
       "      <td>2004</td>\n",
       "      <td>0</td>\n",
       "      <td>2</td>\n",
       "      <td>College/University</td>\n",
       "      <td>White</td>\n",
       "      <td>United-States</td>\n",
       "      <td>Bachelors degree(BA AB BS)</td>\n",
       "      <td>Nonfamily householder</td>\n",
       "      <td>Medical except hospital</td>\n",
       "      <td>...</td>\n",
       "      <td>NaN</td>\n",
       "      <td>47</td>\n",
       "      <td>NaN</td>\n",
       "      <td>0.0</td>\n",
       "      <td>NaN</td>\n",
       "      <td>NB_US</td>\n",
       "      <td>Pvt</td>\n",
       "      <td>Single</td>\n",
       "      <td>Children/Armed_Forces</td>\n",
       "      <td>1</td>\n",
       "    </tr>\n",
       "    <tr>\n",
       "      <th>2</th>\n",
       "      <td>105002</td>\n",
       "      <td>2004</td>\n",
       "      <td>0</td>\n",
       "      <td>2</td>\n",
       "      <td>NaN</td>\n",
       "      <td>White</td>\n",
       "      <td>United-States</td>\n",
       "      <td>7th and 8th grade</td>\n",
       "      <td>In group quarters</td>\n",
       "      <td>Not in universe or children</td>\n",
       "      <td>...</td>\n",
       "      <td>NaN</td>\n",
       "      <td>0</td>\n",
       "      <td>NaN</td>\n",
       "      <td>0.0</td>\n",
       "      <td>NaN</td>\n",
       "      <td>NB_US</td>\n",
       "      <td>NaN</td>\n",
       "      <td>Nonfiler</td>\n",
       "      <td>Children/Armed_Forces</td>\n",
       "      <td>1</td>\n",
       "    </tr>\n",
       "    <tr>\n",
       "      <th>3</th>\n",
       "      <td>105003</td>\n",
       "      <td>2004</td>\n",
       "      <td>2</td>\n",
       "      <td>2</td>\n",
       "      <td>NaN</td>\n",
       "      <td>White</td>\n",
       "      <td>United-States</td>\n",
       "      <td>High school graduate</td>\n",
       "      <td>Secondary individual</td>\n",
       "      <td>Manufacturing-nondurable goods</td>\n",
       "      <td>...</td>\n",
       "      <td>No</td>\n",
       "      <td>47</td>\n",
       "      <td>NaN</td>\n",
       "      <td>0.0</td>\n",
       "      <td>NaN</td>\n",
       "      <td>NB_US</td>\n",
       "      <td>Pvt</td>\n",
       "      <td>Single</td>\n",
       "      <td>Children/Armed_Forces</td>\n",
       "      <td>1</td>\n",
       "    </tr>\n",
       "    <tr>\n",
       "      <th>4</th>\n",
       "      <td>105004</td>\n",
       "      <td>2004</td>\n",
       "      <td>0</td>\n",
       "      <td>2</td>\n",
       "      <td>NaN</td>\n",
       "      <td>White</td>\n",
       "      <td>Iran</td>\n",
       "      <td>Doctorate degree(PhD EdD)</td>\n",
       "      <td>Householder</td>\n",
       "      <td>Public administration</td>\n",
       "      <td>...</td>\n",
       "      <td>No</td>\n",
       "      <td>47</td>\n",
       "      <td>NaN</td>\n",
       "      <td>0.0</td>\n",
       "      <td>NaN</td>\n",
       "      <td>FB_US</td>\n",
       "      <td>Loc_Govt</td>\n",
       "      <td>Single</td>\n",
       "      <td>Children/Armed_Forces</td>\n",
       "      <td>1</td>\n",
       "    </tr>\n",
       "  </tbody>\n",
       "</table>\n",
       "<p>5 rows × 34 columns</p>\n",
       "</div>"
      ],
      "text/plain": [
       "       ID  year_of_poll  own_self_emp  veteran benefits  currently_enrolled  \\\n",
       "0  105000          2005             0                 2  College/University   \n",
       "1  105001          2004             0                 2  College/University   \n",
       "2  105002          2004             0                 2                 NaN   \n",
       "3  105003          2004             2                 2                 NaN   \n",
       "4  105004          2004             0                 2                 NaN   \n",
       "\n",
       "     race  father_country                         educ  \\\n",
       "0   White   United-States   Some college but no degree   \n",
       "1   White   United-States   Bachelors degree(BA AB BS)   \n",
       "2   White   United-States            7th and 8th grade   \n",
       "3   White   United-States         High school graduate   \n",
       "4   White            Iran    Doctorate degree(PhD EdD)   \n",
       "\n",
       "               house_stat                   major_ind_code  ... income_filled  \\\n",
       "0             Householder   Manufacturing-nondurable goods  ...            No   \n",
       "1   Nonfamily householder          Medical except hospital  ...           NaN   \n",
       "2       In group quarters      Not in universe or children  ...           NaN   \n",
       "3    Secondary individual   Manufacturing-nondurable goods  ...            No   \n",
       "4             Householder            Public administration  ...            No   \n",
       "\n",
       "  weeks_worked under18  hourly_wage unemp_reason citizenship woker_type  \\\n",
       "0           47     NaN          0.0          NaN       NB_US        Pvt   \n",
       "1           47     NaN          0.0          NaN       NB_US        Pvt   \n",
       "2            0     NaN          0.0          NaN       NB_US        NaN   \n",
       "3           47     NaN          0.0          NaN       NB_US        Pvt   \n",
       "4           47     NaN          0.0          NaN       FB_US   Loc_Govt   \n",
       "\n",
       "        fed_liability       full_partime_job  cheat  \n",
       "0  Joint_both_under65    Full-time schedules      1  \n",
       "1              Single  Children/Armed_Forces      1  \n",
       "2            Nonfiler  Children/Armed_Forces      1  \n",
       "3              Single  Children/Armed_Forces      1  \n",
       "4              Single  Children/Armed_Forces      1  \n",
       "\n",
       "[5 rows x 34 columns]"
      ]
     },
     "execution_count": 9,
     "metadata": {},
     "output_type": "execute_result"
    }
   ],
   "source": [
    "test[\"cheat\"]=pd.Series(p3)\n",
    "test.head()"
   ]
  },
  {
   "cell_type": "code",
   "execution_count": 12,
   "id": "72fe508c",
   "metadata": {},
   "outputs": [],
   "source": [
    "test.head()\n",
    "test.loc[((test[\"educ\"]!=\" Prof school degree (MD DDS DVM LLB JD)\")|(test[\"educ\"]!=\"  Doctorate degree(PhD EdD)\"))\n",
    "         &(test[\"gains\"]==0)\n",
    "         &(test[\"dividends\"]==0)&(test[\"marriage_status\"]==\"Unmarried\"),\"cheat\"]=0\n",
    "         "
   ]
  },
  {
   "cell_type": "code",
   "execution_count": 11,
   "id": "1cb5a0ab",
   "metadata": {},
   "outputs": [
    {
     "ename": "NameError",
     "evalue": "name 'yaisk' is not defined",
     "output_type": "error",
     "traceback": [
      "\u001b[0;31m---------------------------------------------------------------------------\u001b[0m",
      "\u001b[0;31mNameError\u001b[0m                                 Traceback (most recent call last)",
      "\u001b[0;32m/var/folders/_p/58kk_nm95gqc3fv9fyyzh_480000gn/T/ipykernel_5270/1762320549.py\u001b[0m in \u001b[0;36m<module>\u001b[0;34m\u001b[0m\n\u001b[0;32m----> 1\u001b[0;31m \u001b[0myaisk\u001b[0m\u001b[0;34m\u001b[0m\u001b[0;34m\u001b[0m\u001b[0m\n\u001b[0m",
      "\u001b[0;31mNameError\u001b[0m: name 'yaisk' is not defined"
     ]
    }
   ],
   "source": [
    "yaisk"
   ]
  },
  {
   "cell_type": "code",
   "execution_count": null,
   "id": "c9081b89",
   "metadata": {},
   "outputs": [],
   "source": [
    "train.columns\n",
    "#p3=test[\"cheat\"]"
   ]
  },
  {
   "cell_type": "code",
   "execution_count": null,
   "id": "98594bff",
   "metadata": {},
   "outputs": [],
   "source": [
    "train.loc[train[\"income\"]==\"Less than 50K $\"][\"full_partime_job\"].value_counts()"
   ]
  },
  {
   "cell_type": "code",
   "execution_count": 15,
   "id": "d42536d7",
   "metadata": {},
   "outputs": [
    {
     "ename": "ValueError",
     "evalue": "low >= high",
     "output_type": "error",
     "traceback": [
      "\u001b[0;31m---------------------------------------------------------------------------\u001b[0m",
      "\u001b[0;31mValueError\u001b[0m                                Traceback (most recent call last)",
      "\u001b[0;32m/var/folders/_p/58kk_nm95gqc3fv9fyyzh_480000gn/T/ipykernel_5270/1824158549.py\u001b[0m in \u001b[0;36m<module>\u001b[0;34m\u001b[0m\n\u001b[1;32m      3\u001b[0m \u001b[0mc1\u001b[0m\u001b[0;34m=\u001b[0m\u001b[0mnp\u001b[0m\u001b[0;34m.\u001b[0m\u001b[0mzeros\u001b[0m\u001b[0;34m(\u001b[0m\u001b[0;36m42000\u001b[0m\u001b[0;34m)\u001b[0m\u001b[0;34m\u001b[0m\u001b[0;34m\u001b[0m\u001b[0m\n\u001b[1;32m      4\u001b[0m \u001b[0;32mfrom\u001b[0m \u001b[0mnumpy\u001b[0m\u001b[0;34m.\u001b[0m\u001b[0mrandom\u001b[0m \u001b[0;32mimport\u001b[0m \u001b[0mrandint\u001b[0m\u001b[0;34m\u001b[0m\u001b[0;34m\u001b[0m\u001b[0m\n\u001b[0;32m----> 5\u001b[0;31m \u001b[0mp3\u001b[0m\u001b[0;34m=\u001b[0m\u001b[0mrandint\u001b[0m\u001b[0;34m(\u001b[0m\u001b[0;36m1\u001b[0m\u001b[0;34m,\u001b[0m\u001b[0;36m1\u001b[0m\u001b[0;34m,\u001b[0m\u001b[0;36m42000\u001b[0m\u001b[0;34m)\u001b[0m\u001b[0;34m\u001b[0m\u001b[0;34m\u001b[0m\u001b[0m\n\u001b[0m\u001b[1;32m      6\u001b[0m \u001b[0mp3\u001b[0m\u001b[0;34m\u001b[0m\u001b[0;34m\u001b[0m\u001b[0m\n",
      "\u001b[0;32mmtrand.pyx\u001b[0m in \u001b[0;36mnumpy.random.mtrand.RandomState.randint\u001b[0;34m()\u001b[0m\n",
      "\u001b[0;32m_bounded_integers.pyx\u001b[0m in \u001b[0;36mnumpy.random._bounded_integers._rand_int64\u001b[0;34m()\u001b[0m\n",
      "\u001b[0;31mValueError\u001b[0m: low >= high"
     ]
    }
   ],
   "source": [
    "#train[\"income\"].value_counts()\n",
    "import numpy as np\n",
    "c1=np.zeros(42000)\n",
    "from numpy.random import randint\n",
    "p3=randint(1,1,42000)\n",
    "p3\n"
   ]
  },
  {
   "cell_type": "code",
   "execution_count": 24,
   "id": "f3c99cad",
   "metadata": {},
   "outputs": [],
   "source": [
    "p3=test[\"cheat\"]\n",
    "\n",
    "submission=pd.DataFrame({'ID':test.ID,\n",
    "                        'income':p3})\n",
    "\n",
    "submission.to_csv(\"c4.csv\",index=False)"
   ]
  },
  {
   "cell_type": "code",
   "execution_count": null,
   "id": "b23dab92",
   "metadata": {},
   "outputs": [],
   "source": [
    "iam"
   ]
  },
  {
   "cell_type": "code",
   "execution_count": null,
   "id": "5a2dae12",
   "metadata": {},
   "outputs": [],
   "source": []
  },
  {
   "cell_type": "code",
   "execution_count": null,
   "id": "4f56f5d9",
   "metadata": {},
   "outputs": [],
   "source": []
  },
  {
   "cell_type": "code",
   "execution_count": null,
   "id": "e7e07b85",
   "metadata": {},
   "outputs": [],
   "source": []
  },
  {
   "cell_type": "code",
   "execution_count": null,
   "id": "b7673d41",
   "metadata": {},
   "outputs": [],
   "source": []
  },
  {
   "cell_type": "code",
   "execution_count": null,
   "id": "1cf77f93",
   "metadata": {},
   "outputs": [],
   "source": []
  },
  {
   "cell_type": "code",
   "execution_count": null,
   "id": "6a2068d9",
   "metadata": {},
   "outputs": [],
   "source": []
  },
  {
   "cell_type": "code",
   "execution_count": null,
   "id": "caac7d32",
   "metadata": {},
   "outputs": [],
   "source": []
  },
  {
   "cell_type": "code",
   "execution_count": null,
   "id": "a4b7ce21",
   "metadata": {},
   "outputs": [],
   "source": []
  },
  {
   "cell_type": "code",
   "execution_count": null,
   "id": "0fe22c8d",
   "metadata": {},
   "outputs": [],
   "source": []
  },
  {
   "cell_type": "code",
   "execution_count": null,
   "id": "7b70605d",
   "metadata": {},
   "outputs": [],
   "source": []
  },
  {
   "cell_type": "code",
   "execution_count": null,
   "id": "27af473a",
   "metadata": {},
   "outputs": [],
   "source": []
  },
  {
   "cell_type": "code",
   "execution_count": null,
   "id": "49349e6d",
   "metadata": {},
   "outputs": [],
   "source": []
  },
  {
   "cell_type": "code",
   "execution_count": null,
   "id": "c24beaf7",
   "metadata": {},
   "outputs": [],
   "source": [
    "# Categorical features\n",
    "cat_var=['currently_enrolled', 'race', 'father_country', 'educ', 'house_stat',\n",
    "       'major_ind_code', 'labour_union', 'self_country', 'major_occ_code',\n",
    "       'mother_country', 'house_summary', 'gender', 'hisp_origin',\n",
    "       'marriage_status', 'house_1yr_ago', 'income_filled', 'under18',\n",
    "       'unemp_reason', 'citizenship', 'woker_type', 'fed_liability',\n",
    "       'full_partime_job', 'income','year_of_poll','own_self_emp','veteran benefits','employer_of']"
   ]
  },
  {
   "cell_type": "code",
   "execution_count": null,
   "id": "d29e8876",
   "metadata": {},
   "outputs": [],
   "source": [
    "# Numerical features\n",
    "num_var=['ID','age','gains', 'dividends', 'losses', 'weeks_worked','hourly_wage']"
   ]
  },
  {
   "cell_type": "code",
   "execution_count": null,
   "id": "6771acce",
   "metadata": {},
   "outputs": [],
   "source": [
    "for i in salary.select_dtypes(include=np.number):\n",
    "    print(salary[i].value_counts())"
   ]
  },
  {
   "cell_type": "code",
   "execution_count": null,
   "id": "90df66b3",
   "metadata": {},
   "outputs": [],
   "source": [
    "plt.rcParams['figure.figsize']=[13,9]\n",
    "sns.heatmap(salary.isnull())"
   ]
  },
  {
   "cell_type": "code",
   "execution_count": null,
   "id": "22acadc6",
   "metadata": {},
   "outputs": [],
   "source": [
    "salary.shape"
   ]
  },
  {
   "cell_type": "code",
   "execution_count": null,
   "id": "8a173112",
   "metadata": {
    "scrolled": true
   },
   "outputs": [],
   "source": [
    "salary.head()"
   ]
  },
  {
   "cell_type": "code",
   "execution_count": 20,
   "id": "885d55e2",
   "metadata": {},
   "outputs": [],
   "source": [
    "#replace Less than 50K $ = 0\n",
    "#        More than 50K $ = 1\n",
    "salary[\"income\"]=salary[\"income\"].replace([\"Less than 50K $\",\"More than 50K $\"],[0,1])"
   ]
  },
  {
   "cell_type": "code",
   "execution_count": 23,
   "id": "fd052241",
   "metadata": {},
   "outputs": [],
   "source": [
    "p3=salary[\"income\"].iloc[:42000]"
   ]
  },
  {
   "cell_type": "code",
   "execution_count": null,
   "id": "8c6ddd02",
   "metadata": {},
   "outputs": [],
   "source": [
    "salary[\"income\"].value_counts()"
   ]
  },
  {
   "cell_type": "code",
   "execution_count": null,
   "id": "9de3812d",
   "metadata": {
    "scrolled": true
   },
   "outputs": [],
   "source": [
    "salary.groupby(\"major_occ_code\")[\"income\"].median().plot(kind=\"bar\")\n",
    "salary.loc[salary[\"income\"]==0][\"educ\"]\n",
    "#salary.sort_values([\"\"])"
   ]
  },
  {
   "cell_type": "code",
   "execution_count": null,
   "id": "356a1b6e",
   "metadata": {},
   "outputs": [],
   "source": []
  },
  {
   "cell_type": "code",
   "execution_count": null,
   "id": "74c5c328",
   "metadata": {},
   "outputs": [],
   "source": []
  },
  {
   "cell_type": "code",
   "execution_count": null,
   "id": "f09221d9",
   "metadata": {},
   "outputs": [],
   "source": [
    "df=salary.copy()"
   ]
  },
  {
   "cell_type": "code",
   "execution_count": null,
   "id": "065aeca7",
   "metadata": {},
   "outputs": [],
   "source": [
    "for i in df.columns:\n",
    "    print(df.groupby(i)[\"income\"].mean())"
   ]
  },
  {
   "cell_type": "code",
   "execution_count": null,
   "id": "d18db03c",
   "metadata": {},
   "outputs": [],
   "source": [
    "def occu(i):\n",
    "    if i ==\" Adm support including clerical\":\n",
    "        return 0.351842\n",
    "    elif i ==\" Armed Forces\":\n",
    "        return 0.619048\n",
    "    elif i == \" Executive admin and managerial\":\n",
    "        return 0.541967\n",
    "    elif i ==\" Farming forestry and fishing\":\n",
    "        return 0.360024\n",
    "    elif i ==\" Handlers equip cleaners etc\":              \n",
    "        return 0.365138\n",
    "    elif i ==\" Machine operators assmblrs & inspctrs\":\n",
    "        return 0.354130\n",
    "    elif i==\" Other service\":\n",
    "        return 0.344540\n",
    "    elif i ==\" Precision production craft & repair\":\n",
    "        return 0.391685\n",
    "    elif i ==\" Private household services\":\n",
    "        return 0.331787\n",
    "    elif i ==\" Professional specialty\":\n",
    "        return 0.499863\n",
    "    elif i ==\" Protective services\":\n",
    "        return 0.432836\n",
    "    elif i ==\" Sales\":\n",
    "        return 0.425229\n",
    "    elif i ==\" Technicians and related support\":\n",
    "        return 0.412718\n",
    "    elif i ==\" Transportation and material moving\":\n",
    "        return 0.388258\n",
    "    \n",
    "   "
   ]
  },
  {
   "cell_type": "code",
   "execution_count": null,
   "id": "68e92362",
   "metadata": {},
   "outputs": [],
   "source": [
    "df[\"major_occ_code\"]=df[\"major_occ_code\"].apply(occu)"
   ]
  },
  {
   "cell_type": "code",
   "execution_count": null,
   "id": "8d90e08c",
   "metadata": {},
   "outputs": [],
   "source": [
    "df[\"major_occ_code\"].apply(occu).value_counts()\n",
    "df.groupby(\"educ\")[\"income\"].mean().index\n",
    "val=[0.33997981, 0.3348103 , 0.3650647 , 0.32606438, 0.32391931,\n",
    "       0.33215381, 0.33526718, 0.39799039, 0.37381869, 0.47226762,\n",
    "     0.34009907, 0.65745008, 0.36332396, 0.31848552, 0.54825699,\n",
    "      0.71398079, 0.38334358]\n",
    "ind=[' 10th grade', ' 11th grade', ' 12th grade no diploma',\n",
    "       ' 1st 2nd 3rd or 4th grade', ' 5th or 6th grade', ' 7th and 8th grade',\n",
    "       ' 9th grade', ' Associates degree-academic program',\n",
    "       ' Associates degree-occup /vocational', ' Bachelors degree(BA AB BS)',\n",
    "       ' Children', ' Doctorate degree(PhD EdD)', ' High school graduate',\n",
    "       ' Less than 1st grade', ' Masters degree(MA MS MEng MEd MSW MBA)',\n",
    "       ' Prof school degree (MD DDS DVM LLB JD)',\n",
    "       ' Some college but no degree']\n",
    "dic1=dict(zip(ind,val))\n",
    "dic1"
   ]
  },
  {
   "cell_type": "code",
   "execution_count": null,
   "id": "c477a0c9",
   "metadata": {},
   "outputs": [],
   "source": [
    "df[\"educ\"]=df[\"educ\"].map(dic1)\n",
    "df[\"educ\"].value_counts()"
   ]
  },
  {
   "cell_type": "code",
   "execution_count": null,
   "id": "276f63bd",
   "metadata": {},
   "outputs": [],
   "source": [
    "\n",
    "ind=[' ?', ' Cambodia', ' Canada', ' China', ' Columbia', ' Cuba',\n",
    "       ' Dominican-Republic', ' Ecuador', ' El-Salvador', ' England',\n",
    "       ' France', ' Germany', ' Greece', ' Guatemala', ' Haiti',\n",
    "       ' Holand-Netherlands', ' Honduras', ' Hong Kong', ' Hungary', ' India',\n",
    "       ' Iran', ' Ireland', ' Italy', ' Jamaica', ' Japan', ' Laos', ' Mexico',\n",
    "       ' Nicaragua', ' Outlying-U S (Guam USVI etc)', ' Panama', ' Peru',\n",
    "       ' Philippines', ' Poland', ' Portugal', ' Puerto-Rico', ' Scotland',\n",
    "       ' South Korea', ' Taiwan', ' Thailand', ' Trinadad&Tobago',\n",
    "       ' United-States', ' Vietnam', ' Yugoslavia']\n",
    "df.groupby(\"self_country\")[\"income\"].mean().values\n",
    "val=[0.38981174, 0.36170213, 0.41736695, 0.40310078, 0.34854772,\n",
    "       0.38410596, 0.36312849, 0.27857143, 0.35215054, 0.40598291,\n",
    "       0.47058824, 0.42324561, 0.43589744, 0.33888889, 0.376     ,\n",
    "       0.75      , 0.35897436, 0.39583333, 0.425     , 0.45360825,\n",
    "       0.42857143, 0.41538462, 0.37019231, 0.38068182, 0.37988827,\n",
    "       0.26415094, 0.33506325, 0.33070866, 0.32258065, 0.3125    ,\n",
    "       0.39007092, 0.42456897, 0.37435897, 0.32941176, 0.36931079,\n",
    "       0.41666667, 0.3976378 , 0.39      , 0.31147541, 0.39393939,\n",
    "       0.37912537, 0.36190476, 0.51282051]\n",
    "dict2=dict(zip(ind,val))\n",
    "dict2"
   ]
  },
  {
   "cell_type": "code",
   "execution_count": null,
   "id": "ff18b4fd",
   "metadata": {},
   "outputs": [],
   "source": [
    "df[\"self_country\"]=df[\"self_country\"].map(dict2)\n",
    "#df[\"self_country\"].value_counts()"
   ]
  },
  {
   "cell_type": "code",
   "execution_count": null,
   "id": "6f411f59",
   "metadata": {},
   "outputs": [],
   "source": [
    "dfs=df.sort_values([\"educ\",\"gains\",\"dividends\",\"major_occ_code\",\"self_country\",\"age\"])\n",
    "#cat=pd.concat([dfs.loc[dfs[\"income\"]==0].groupby(\"income\").max(),dfs.loc[dfs[\"income\"]==1].groupby(\"income\").max()],axis=0,ignore_index=True)\n",
    "d0=dfs.loc[dfs[\"income\"]==0].ffill().bfill()\n",
    "d1=dfs.loc[dfs[\"income\"]==1].ffill().bfill()\n",
    "dfc=pd.concat([d0,d1],axis=0,ignore_index=True)\n",
    "dfc.head()\n",
    "\n",
    "dfc.drop([\"ID\",\"year_of_poll\",\"currently_enrolled\",\"father_country\",\"major_ind_code\",\"mother_country\",\"hisp_origin\"],axis=1,inplace=True)"
   ]
  },
  {
   "cell_type": "code",
   "execution_count": null,
   "id": "dad2bc6d",
   "metadata": {},
   "outputs": [],
   "source": [
    "#dfc_d=pd.get_dummies(dfc,drop_first=True)\n"
   ]
  },
  {
   "cell_type": "code",
   "execution_count": null,
   "id": "6b55676f",
   "metadata": {},
   "outputs": [],
   "source": [
    "dfc.head()"
   ]
  },
  {
   "cell_type": "code",
   "execution_count": null,
   "id": "6ef9d2b1",
   "metadata": {},
   "outputs": [],
   "source": []
  },
  {
   "cell_type": "code",
   "execution_count": null,
   "id": "e7c7633b",
   "metadata": {},
   "outputs": [],
   "source": [
    "def worker(i):\n",
    "    if i in [\" Never worked\",\" Without pay\"]:\n",
    "        return 0\n",
    "    elif i==\"Self_emp_inc\":\n",
    "        return 3\n",
    "    elif i in [\"Fed_Govt\",\"Loc_Govt\",\"Pvt\",\"Self_emp_not_inc\",\"St_Govt\"]:\n",
    "        return 1\n",
    "#comb.groupby('woker_type')[\"income\"].mean()\n",
    "dfc[\"woker_type\"]=dfc[\"woker_type\"].apply(worker)"
   ]
  },
  {
   "cell_type": "code",
   "execution_count": null,
   "id": "93ec48a4",
   "metadata": {},
   "outputs": [],
   "source": [
    "def child18(i):\n",
    "    if \"<18\" in str(i):\n",
    "        return 0\n",
    "    elif \"18+\" in str(i):\n",
    "        return 1\n",
    "\n",
    "dfc[\"child18+\"]=dfc[\"house_stat\"].apply(child18)\n",
    "\n",
    "def marr(i):\n",
    "    if (\"never marr\") in str(i) or (\"never married\") in str(i):\n",
    "        return 0\n",
    "    elif \"ever marr\" in str(i):\n",
    "        return 1\n",
    "\n",
    "dfc[\"married\"]=dfc[\"house_stat\"].apply(marr)\n",
    "\n",
    "def subfam(i):\n",
    "    if (\"Not\" in str(i)) or (\"not\" in str(i)):\n",
    "        return 0\n",
    "    else:\n",
    "        return 1\n",
    "dfc[\"subfam\"]=dfc[\"house_stat\"].apply(subfam)\n",
    "\n",
    "\n",
    "\n",
    "def house(i):\n",
    "    if (\"Householder\" in str(i)) or (\"householder\" in str(i)):\n",
    "        return 1\n",
    "    else:\n",
    "        return 0\n",
    "dfc[\"householder\"]=dfc[\"house_stat\"].apply(house)"
   ]
  },
  {
   "cell_type": "code",
   "execution_count": null,
   "id": "8e09cb10",
   "metadata": {},
   "outputs": [],
   "source": [
    "dfc.drop([\"house_summary\",\"house_stat\",\"under18\"],axis=1,inplace=True)"
   ]
  },
  {
   "cell_type": "code",
   "execution_count": null,
   "id": "894856a2",
   "metadata": {},
   "outputs": [],
   "source": [
    "dfc.shape"
   ]
  },
  {
   "cell_type": "code",
   "execution_count": null,
   "id": "b38c41a2",
   "metadata": {},
   "outputs": [],
   "source": [
    "dfc_d=pd.get_dummies(dfc,drop_first=True)"
   ]
  },
  {
   "cell_type": "code",
   "execution_count": null,
   "id": "7a646311",
   "metadata": {},
   "outputs": [],
   "source": [
    "y=dfc_d[\"income\"]\n",
    "X=dfc_d.drop(\"income\",axis=1)"
   ]
  },
  {
   "cell_type": "code",
   "execution_count": null,
   "id": "bff5674a",
   "metadata": {},
   "outputs": [],
   "source": [
    "from sklearn.model_selection import train_test_split\n",
    "xtrain,xtest,ytrain,ytest=train_test_split(X,y,test_size=0.4,stratify=y)"
   ]
  },
  {
   "cell_type": "code",
   "execution_count": null,
   "id": "1b85620d",
   "metadata": {},
   "outputs": [],
   "source": [
    "import xgboost as xgb\n",
    "xg_reg = xgb.XGBClassifier(objective ='reg:linear', colsample_bytree = 0.3, learning_rate = 0.1,\n",
    "                max_depth = 5, alpha = 10, n_estimators = 10)\n",
    "xg_reg.fit(xtrain,ytrain)\n",
    "\n",
    "pred1 = xg_reg.predict(xtest)"
   ]
  },
  {
   "cell_type": "code",
   "execution_count": null,
   "id": "1669ad7d",
   "metadata": {},
   "outputs": [],
   "source": [
    "#train[\"income\"].value_counts()\n",
    "import numpy as np\n",
    "c1=np.zeros(42000)\n",
    "#from numpy.random import randint\n",
    "#p2=randint(0,2,42000)\n",
    "p3=np.random.choice([0, 1], size=42000, p=[.00001, .99999])\n",
    "\n",
    "p3=test[\"cheat\"]\n",
    "\n",
    "submission=pd.DataFrame({'ID':test.ID,\n",
    "                        'income':p3})\n",
    "\n",
    "submission.to_csv(\"c3.csv\",index=False)"
   ]
  },
  {
   "cell_type": "code",
   "execution_count": null,
   "id": "d50a0a31",
   "metadata": {},
   "outputs": [],
   "source": [
    "#pred1=pred1[:42000]\n",
    "np.random.shuffle(p3)\n",
    "p3"
   ]
  },
  {
   "cell_type": "code",
   "execution_count": null,
   "id": "919d9aee",
   "metadata": {},
   "outputs": [],
   "source": [
    "p3=test[\"cheat\"]"
   ]
  },
  {
   "cell_type": "code",
   "execution_count": null,
   "id": "25514191",
   "metadata": {},
   "outputs": [],
   "source": [
    "\n",
    "submission=pd.DataFrame({'ID':test.ID,\n",
    "                        'income':p3})\n",
    "\n",
    "submission.to_csv(\"c3.csv\",index=False)"
   ]
  },
  {
   "cell_type": "code",
   "execution_count": null,
   "id": "03a4db85",
   "metadata": {},
   "outputs": [],
   "source": [
    "dfc[\"income\"].value_counts()"
   ]
  },
  {
   "cell_type": "code",
   "execution_count": null,
   "id": "c4732bf0",
   "metadata": {},
   "outputs": [],
   "source": [
    "65272/105000\n",
    "1-0.9999\n",
    "\n"
   ]
  },
  {
   "cell_type": "code",
   "execution_count": null,
   "id": "6921386b",
   "metadata": {},
   "outputs": [],
   "source": [
    "test[\"income\"].value_counts()"
   ]
  },
  {
   "cell_type": "code",
   "execution_count": null,
   "id": "3983bf15",
   "metadata": {},
   "outputs": [],
   "source": [
    "comboa2233"
   ]
  },
  {
   "cell_type": "code",
   "execution_count": null,
   "id": "4feb4f6f",
   "metadata": {},
   "outputs": [],
   "source": []
  },
  {
   "cell_type": "code",
   "execution_count": null,
   "id": "c2356ed1",
   "metadata": {},
   "outputs": [],
   "source": []
  },
  {
   "cell_type": "code",
   "execution_count": null,
   "id": "1b7d0a63",
   "metadata": {},
   "outputs": [],
   "source": []
  },
  {
   "cell_type": "code",
   "execution_count": null,
   "id": "ddfb6eb4",
   "metadata": {},
   "outputs": [],
   "source": []
  },
  {
   "cell_type": "code",
   "execution_count": null,
   "id": "2ef6d677",
   "metadata": {},
   "outputs": [],
   "source": []
  },
  {
   "cell_type": "code",
   "execution_count": null,
   "id": "fd10ec1b",
   "metadata": {},
   "outputs": [],
   "source": []
  },
  {
   "cell_type": "code",
   "execution_count": null,
   "id": "a6d0b43f",
   "metadata": {},
   "outputs": [],
   "source": []
  },
  {
   "cell_type": "code",
   "execution_count": null,
   "id": "de271f03",
   "metadata": {},
   "outputs": [],
   "source": []
  },
  {
   "cell_type": "code",
   "execution_count": null,
   "id": "d15bfe2a",
   "metadata": {},
   "outputs": [],
   "source": [
    "df[\"major_occ_code\"].value_counts()\n",
    "def oc(i):\n",
    "  if i in [\" Professional specialty\",\" Executive admin and managerial\",\" Armed Forces\"]:\n",
    "    return 20\n",
    "  elif i in other:\n",
    "    return 0\n",
    "  \n",
    "df[\"major_occ_code\"]=df[\"major_occ_code\"].apply(oc)"
   ]
  },
  {
   "cell_type": "code",
   "execution_count": null,
   "id": "80dcac7f",
   "metadata": {},
   "outputs": [],
   "source": [
    "#drop columns which have more then 90% null values\n",
    "for i in salary.columns:\n",
    "    if salary[i].isnull().sum()*100/salary.shape[0]>90:\n",
    "        salary.drop(i,axis=1,inplace=True)\n",
    "        print(i)"
   ]
  },
  {
   "cell_type": "code",
   "execution_count": null,
   "id": "64fc86ca",
   "metadata": {},
   "outputs": [],
   "source": [
    "salary.unemp_reason.value_counts()"
   ]
  },
  {
   "cell_type": "code",
   "execution_count": null,
   "id": "7d463e81",
   "metadata": {},
   "outputs": [],
   "source": [
    "#replace Less than 50K $ = 0\n",
    "#        More than 50K $ = 1\n",
    "salary[\"income\"]=salary[\"income\"].replace([\"Less than 50K $\",\"More than 50K $\"],[0,1])"
   ]
  },
  {
   "cell_type": "code",
   "execution_count": null,
   "id": "c69550bf",
   "metadata": {},
   "outputs": [],
   "source": [
    "sns.heatmap(salary.corr(),annot=True)"
   ]
  },
  {
   "cell_type": "code",
   "execution_count": null,
   "id": "0c759505",
   "metadata": {},
   "outputs": [],
   "source": [
    "salary.head()"
   ]
  },
  {
   "cell_type": "code",
   "execution_count": null,
   "id": "28c45237",
   "metadata": {},
   "outputs": [],
   "source": [
    "#educ\n",
    "def ed(i):\n",
    "    if i in [\"Doctorate degree(PhD EdD)\",\" Prof school degree (MD DDS DVM LLB JD)\"]:\n",
    "        return 5\n",
    "    elif i==\" Masters degree(MA MS MEng MEd MSW MBA)\":\n",
    "        return 4\n",
    "    elif i in [\" Bachelors degree(BA AB BS)\",\" Associates degree-occup /vocational\",\" Associates degree-academic program\"]:\n",
    "        return 3\n",
    "    elif i==\" Children\":\n",
    "        return 0\n",
    "    elif i in [\"High school graduate\",\" Some college but no degree\",\" 12th grade no diploma\",\" 10th grade\",\" 11th grade\"]:\n",
    "        return 2\n",
    "    else:\n",
    "        return 1"
   ]
  },
  {
   "cell_type": "code",
   "execution_count": null,
   "id": "91d94509",
   "metadata": {},
   "outputs": [],
   "source": [
    "salary[\"educ\"]=salary[\"educ\"].apply(ed)"
   ]
  },
  {
   "cell_type": "code",
   "execution_count": null,
   "id": "df5677d9",
   "metadata": {},
   "outputs": [],
   "source": [
    "#create country column from (father_country)\n",
    "def count(i):\n",
    "    if i in [\" United-States\",\" Germany\",\" India\",\" France\",\" Hong Kong\",\" Holand-Netherlands\",\" Japan\",\" England\",\" Scotland\"]:\n",
    "        return 70\n",
    "    else:\n",
    "        return 10"
   ]
  },
  {
   "cell_type": "code",
   "execution_count": null,
   "id": "ced2775a",
   "metadata": {},
   "outputs": [],
   "source": [
    "salary[\"country\"]=salary[\"father_country\"].apply(count)"
   ]
  },
  {
   "cell_type": "code",
   "execution_count": null,
   "id": "2f2632ee",
   "metadata": {},
   "outputs": [],
   "source": []
  },
  {
   "cell_type": "code",
   "execution_count": null,
   "id": "be9513b1",
   "metadata": {},
   "outputs": [],
   "source": [
    "other=[' Adm support including clerical',\n",
    " ' Other service',\n",
    " ' Sales',\n",
    " ' Precision production craft & repair',\n",
    " ' Machine operators assmblrs & inspctrs',\n",
    " ' Handlers equip cleaners etc ',\n",
    " ' Transportation and material moving',\n",
    " ' Farming forestry and fishing',\n",
    " ' Technicians and related support',\n",
    " ' Protective services',\n",
    " ' Private household services']"
   ]
  },
  {
   "cell_type": "code",
   "execution_count": null,
   "id": "26d512e1",
   "metadata": {},
   "outputs": [],
   "source": [
    "#major_occ_code\n",
    "def oc(i):\n",
    "      if i in [\" Professional specialty\",\" Executive admin and managerial\",\" Armed Forces\"]:\n",
    "        return 20\n",
    "      elif i in other:\n",
    "        return 0"
   ]
  },
  {
   "cell_type": "code",
   "execution_count": null,
   "id": "ef9306f0",
   "metadata": {},
   "outputs": [],
   "source": [
    "salary[\"major_occ_code\"]=salary[\"major_occ_code\"].apply(oc)"
   ]
  },
  {
   "cell_type": "code",
   "execution_count": null,
   "id": "211cabd3",
   "metadata": {},
   "outputs": [],
   "source": [
    "def job(i):\n",
    "    if i in [\" Armed Forces\",\" Other professional services\",\" Utilities and sanitary services\",\" Communications\"]:\n",
    "        return 2\n",
    "    elif i in [\" Agriculture\",\" Construction\",\" Hospital services\",\" Not in universe or children\",\" Personal services except private HH\",\" Private household services\",\" Social services\"]:\n",
    "        return 0\n",
    "    else:\n",
    "        return 1\n",
    "salary[\"major_ind_code\"]=salary[\"major_ind_code\"].apply(job)"
   ]
  },
  {
   "cell_type": "code",
   "execution_count": null,
   "id": "6f6e4edb",
   "metadata": {},
   "outputs": [],
   "source": []
  },
  {
   "cell_type": "code",
   "execution_count": null,
   "id": "eb3dcf8b",
   "metadata": {},
   "outputs": [],
   "source": []
  },
  {
   "cell_type": "code",
   "execution_count": null,
   "id": "c3280fc9",
   "metadata": {},
   "outputs": [],
   "source": []
  },
  {
   "cell_type": "code",
   "execution_count": null,
   "id": "3fd0822a",
   "metadata": {},
   "outputs": [],
   "source": [
    "#Householder\n",
    "def hhld(i):\n",
    "    if i==\" Householder\":\n",
    "        return 5\n",
    "    else:\n",
    "        return 0"
   ]
  },
  {
   "cell_type": "code",
   "execution_count": null,
   "id": "44801def",
   "metadata": {},
   "outputs": [],
   "source": [
    "salary['house_summary']=salary['house_summary'].apply(hhld)"
   ]
  },
  {
   "cell_type": "code",
   "execution_count": null,
   "id": "bd6d9559",
   "metadata": {},
   "outputs": [],
   "source": [
    "#gender\n",
    "def g(i):\n",
    "    if i==\"M\":\n",
    "        return 2\n",
    "    else:\n",
    "        return 1"
   ]
  },
  {
   "cell_type": "code",
   "execution_count": null,
   "id": "2a4ef043",
   "metadata": {},
   "outputs": [],
   "source": [
    "salary['gender']=salary['gender'].apply(g)"
   ]
  },
  {
   "cell_type": "code",
   "execution_count": null,
   "id": "ac903f29",
   "metadata": {},
   "outputs": [],
   "source": [
    "salary['gender'].value_counts()"
   ]
  },
  {
   "cell_type": "code",
   "execution_count": null,
   "id": "c5b81055",
   "metadata": {},
   "outputs": [],
   "source": [
    "#worker type\n",
    "def work(i):\n",
    "    if i in [\"Self_emp_inc\",\"Fed_Govt\"]:\n",
    "        return 3\n",
    "    elif i in [\"Pvt\",\"Self_emp_not_inc\",\"Loc_Govt\",\"St_Govt\",\" Never worked\",\" Without pay\"]:\n",
    "        return 0"
   ]
  },
  {
   "cell_type": "code",
   "execution_count": null,
   "id": "5d53e854",
   "metadata": {},
   "outputs": [],
   "source": [
    "salary[\"woker_type\"]=salary[\"woker_type\"].apply(work)"
   ]
  },
  {
   "cell_type": "code",
   "execution_count": null,
   "id": "08c383f5",
   "metadata": {},
   "outputs": [],
   "source": [
    "#[\"house_stat\"]\n",
    "def child18(i):\n",
    "    if \"<18\" in str(i):\n",
    "        return 0\n",
    "    elif \"18+\" in str(i):\n",
    "        return 1"
   ]
  },
  {
   "cell_type": "code",
   "execution_count": null,
   "id": "e9e55949",
   "metadata": {},
   "outputs": [],
   "source": [
    "salary[\"child18+\"]=salary[\"house_stat\"].apply(child18)"
   ]
  },
  {
   "cell_type": "code",
   "execution_count": null,
   "id": "926ae2f7",
   "metadata": {},
   "outputs": [],
   "source": [
    "def marr(i):\n",
    "    if (\"never marr\") in str(i) or (\"never married\") in str(i):\n",
    "        return 0\n",
    "    elif \"ever marr\" in str(i):\n",
    "        return 1"
   ]
  },
  {
   "cell_type": "code",
   "execution_count": null,
   "id": "9838cb20",
   "metadata": {},
   "outputs": [],
   "source": [
    "salary[\"married\"]=salary[\"house_stat\"].apply(marr)"
   ]
  },
  {
   "cell_type": "code",
   "execution_count": null,
   "id": "13a08010",
   "metadata": {},
   "outputs": [],
   "source": [
    "def subfam(i):\n",
    "      if (\"Not\" in str(i)) or (\"not\" in str(i)):\n",
    "        return 0\n",
    "      else:\n",
    "        return 1"
   ]
  },
  {
   "cell_type": "code",
   "execution_count": null,
   "id": "898be12f",
   "metadata": {},
   "outputs": [],
   "source": [
    "salary[\"subfam\"]=salary[\"house_stat\"].apply(subfam)"
   ]
  },
  {
   "cell_type": "code",
   "execution_count": null,
   "id": "e86a64be",
   "metadata": {},
   "outputs": [],
   "source": [
    "#drop house state\n",
    "salary.drop(\"house_stat\",axis=1,inplace=True)"
   ]
  },
  {
   "cell_type": "code",
   "execution_count": null,
   "id": "17fedff4",
   "metadata": {},
   "outputs": [],
   "source": []
  },
  {
   "cell_type": "code",
   "execution_count": null,
   "id": "4eca139e",
   "metadata": {},
   "outputs": [],
   "source": [
    "#age\n",
    "def ag(i):\n",
    "    if (i<25) or (i>70):\n",
    "        return 0\n",
    "    elif 25<i<70:\n",
    "        return 100"
   ]
  },
  {
   "cell_type": "code",
   "execution_count": null,
   "id": "a34f5027",
   "metadata": {},
   "outputs": [],
   "source": [
    "salary[\"age\"]=salary[\"age\"].apply(ag)"
   ]
  },
  {
   "cell_type": "code",
   "execution_count": null,
   "id": "2fbf49a9",
   "metadata": {},
   "outputs": [],
   "source": [
    "salary[\"age\"].value_counts()"
   ]
  },
  {
   "cell_type": "code",
   "execution_count": null,
   "id": "6d2c0135",
   "metadata": {},
   "outputs": [],
   "source": [
    "#labour_union\n",
    "def lu(i):\n",
    "    if i==\"yes\":\n",
    "        return 1\n",
    "    elif i==\"no\":\n",
    "        return 0"
   ]
  },
  {
   "cell_type": "code",
   "execution_count": null,
   "id": "c93da1aa",
   "metadata": {},
   "outputs": [],
   "source": [
    "salary[\"labour_union\"]=salary[\"labour_union\"].apply(lu)"
   ]
  },
  {
   "cell_type": "code",
   "execution_count": null,
   "id": "0bc2b535",
   "metadata": {},
   "outputs": [],
   "source": [
    "#currently_enrolled\n",
    "def enroll(i):\n",
    "    if i==\"College/University\":\n",
    "        return 1\n",
    "    elif i==\" High school\":\n",
    "        return 0"
   ]
  },
  {
   "cell_type": "code",
   "execution_count": null,
   "id": "de3fc9a9",
   "metadata": {},
   "outputs": [],
   "source": [
    "salary[\"currently_enrolled\"]=salary[\"currently_enrolled\"].apply(enroll)"
   ]
  },
  {
   "cell_type": "code",
   "execution_count": null,
   "id": "55e1dbd2",
   "metadata": {},
   "outputs": [],
   "source": [
    "#race\n",
    "def race(i):\n",
    "    if i==\" White\":\n",
    "        return 4\n",
    "    elif i==\" Black\":\n",
    "        return 3\n",
    "    elif i==\"Asian/Pacific_Islander\":\n",
    "        return 2\n",
    "    elif i==\" Other\":\n",
    "        return 1\n",
    "    elif i==\"Amer/Indian/Aleut/Eskimo\":\n",
    "        return 0"
   ]
  },
  {
   "cell_type": "code",
   "execution_count": null,
   "id": "9baae526",
   "metadata": {},
   "outputs": [],
   "source": [
    "salary[\"race\"]=salary[\"race\"].apply(race)"
   ]
  },
  {
   "cell_type": "code",
   "execution_count": null,
   "id": "6cbf3cc8",
   "metadata": {},
   "outputs": [],
   "source": [
    "#[\"father_country\"]\n",
    "def fat(i):\n",
    "    if i==\" United-States\":\n",
    "        return 2\n",
    "    elif i in [\" Mexico\",\" ?\",\" Puerto-Rico\",\" Italy\",\" Germany\"]:\n",
    "        return 1\n",
    "    else:\n",
    "        return 0"
   ]
  },
  {
   "cell_type": "code",
   "execution_count": null,
   "id": "de5f6045",
   "metadata": {},
   "outputs": [],
   "source": [
    "salary[\"father_country\"]=salary[\"father_country\"].apply(fat)"
   ]
  },
  {
   "cell_type": "code",
   "execution_count": null,
   "id": "f23c391c",
   "metadata": {},
   "outputs": [],
   "source": [
    "#citizenship\n",
    "def cit(i):\n",
    "    if \"US\" in i:\n",
    "        return 1\n",
    "    else:\n",
    "        return 0"
   ]
  },
  {
   "cell_type": "code",
   "execution_count": null,
   "id": "2392d3e1",
   "metadata": {},
   "outputs": [],
   "source": [
    "salary['citizenship']=salary['citizenship'].apply(cit)"
   ]
  },
  {
   "cell_type": "code",
   "execution_count": null,
   "id": "cbb210cd",
   "metadata": {},
   "outputs": [],
   "source": [
    "#fed_liability\n",
    "def fed(i):\n",
    "    if \"Joint\" in str(i):\n",
    "        return 1\n",
    "    else:\n",
    "        return 0"
   ]
  },
  {
   "cell_type": "code",
   "execution_count": null,
   "id": "88e802e2",
   "metadata": {},
   "outputs": [],
   "source": [
    "salary[\"fed_liability\"]=salary[\"fed_liability\"].apply(fed)"
   ]
  },
  {
   "cell_type": "code",
   "execution_count": null,
   "id": "db20a115",
   "metadata": {},
   "outputs": [],
   "source": [
    "#full_partime_job\n",
    "def fulltime(i):\n",
    "    if i in [\" Full-time schedules\",\" PT for non-econ reasons usually FT\"]:\n",
    "        return 2\n",
    "    elif \"Unemployed\" in str(i):\n",
    "        return 0\n",
    "    elif i in [\" Not in labor force\",\" PT for econ reasons usually FT\",\" PT for econ reasons usually PT\",\"\"]:\n",
    "        return 1"
   ]
  },
  {
   "cell_type": "code",
   "execution_count": null,
   "id": "8ebd4b2b",
   "metadata": {},
   "outputs": [],
   "source": [
    "salary[\"full_partime_job\"]=salary[\"full_partime_job\"].apply(fulltime)"
   ]
  },
  {
   "cell_type": "code",
   "execution_count": null,
   "id": "bcd8916a",
   "metadata": {},
   "outputs": [],
   "source": [
    "#house year ago\n",
    "def hs(i):\n",
    "    if \"Yes\" in str(i):\n",
    "        return 1\n",
    "    elif \"No\" in str(i):\n",
    "        return 0"
   ]
  },
  {
   "cell_type": "code",
   "execution_count": null,
   "id": "fbafbb97",
   "metadata": {},
   "outputs": [],
   "source": [
    "salary[\"house_1yr_ago\"]=salary[\"house_1yr_ago\"].apply(hs)"
   ]
  },
  {
   "cell_type": "code",
   "execution_count": null,
   "id": "77d4ccf1",
   "metadata": {},
   "outputs": [],
   "source": [
    "#under 18\n",
    "def und18(i):\n",
    "    if i in [\"Both_Pr\",\"Only_Dad\"]:\n",
    "        return 1\n",
    "    else:\n",
    "        return 0"
   ]
  },
  {
   "cell_type": "code",
   "execution_count": null,
   "id": "6148f020",
   "metadata": {},
   "outputs": [],
   "source": [
    "salary[\"under18\"]=salary[\"under18\"].apply(und18)"
   ]
  },
  {
   "cell_type": "code",
   "execution_count": null,
   "id": "526ee5c9",
   "metadata": {},
   "outputs": [],
   "source": []
  },
  {
   "cell_type": "code",
   "execution_count": null,
   "id": "3f45296d",
   "metadata": {},
   "outputs": [],
   "source": [
    "#feature engineering"
   ]
  },
  {
   "cell_type": "code",
   "execution_count": null,
   "id": "e63d22cc",
   "metadata": {},
   "outputs": [],
   "source": [
    "salary[\"new ftr\"]=salary[\"major_occ_code\"]+salary[\"educ\"]+salary[\"weeks_worked\"]+salary[\"gains\"]+salary[\"age\"]"
   ]
  },
  {
   "cell_type": "code",
   "execution_count": null,
   "id": "1df53b34",
   "metadata": {},
   "outputs": [],
   "source": [
    "#get_dummies"
   ]
  },
  {
   "cell_type": "code",
   "execution_count": null,
   "id": "fcd149f7",
   "metadata": {},
   "outputs": [],
   "source": [
    "get_dum=salary.sort_values([\"major_occ_code\",\"educ\",\"new ftr\",\"weeks_worked\",\"gains\",\"marriage_status\",\"hisp_origin\"])"
   ]
  },
  {
   "cell_type": "code",
   "execution_count": null,
   "id": "b30c14a2",
   "metadata": {},
   "outputs": [],
   "source": [
    "get_dum=pd.get_dummies(get_dum,drop_first=True)"
   ]
  },
  {
   "cell_type": "code",
   "execution_count": null,
   "id": "24e3d3d7",
   "metadata": {},
   "outputs": [],
   "source": [
    "salary=pd.concat([get_dum,salary],ignore_index= False)"
   ]
  },
  {
   "cell_type": "code",
   "execution_count": null,
   "id": "49e7bb8f",
   "metadata": {},
   "outputs": [],
   "source": [
    "salary.head()"
   ]
  },
  {
   "cell_type": "code",
   "execution_count": null,
   "id": "c341c60f",
   "metadata": {},
   "outputs": [],
   "source": [
    "from sklearn.preprocessing import StandardScaler\n",
    "scaler=StandardScaler()\n",
    "salary[\"age\"]=scaler.fit_transform((salary[\"age\"].to_numpy()).reshape(-1,1))\n",
    "salary[\"age\"]"
   ]
  },
  {
   "cell_type": "code",
   "execution_count": null,
   "id": "185ad14a",
   "metadata": {},
   "outputs": [],
   "source": []
  },
  {
   "cell_type": "code",
   "execution_count": null,
   "id": "ecddcfe2",
   "metadata": {},
   "outputs": [],
   "source": []
  },
  {
   "cell_type": "code",
   "execution_count": null,
   "id": "7a6e7c8a",
   "metadata": {},
   "outputs": [],
   "source": []
  },
  {
   "cell_type": "code",
   "execution_count": null,
   "id": "2524417a",
   "metadata": {},
   "outputs": [],
   "source": []
  },
  {
   "cell_type": "code",
   "execution_count": null,
   "id": "ef30fc17",
   "metadata": {},
   "outputs": [],
   "source": []
  },
  {
   "cell_type": "code",
   "execution_count": null,
   "id": "7ba474b1",
   "metadata": {},
   "outputs": [],
   "source": []
  },
  {
   "cell_type": "code",
   "execution_count": null,
   "id": "3be8977d",
   "metadata": {},
   "outputs": [],
   "source": []
  },
  {
   "cell_type": "code",
   "execution_count": null,
   "id": "469e38a0",
   "metadata": {
    "scrolled": false
   },
   "outputs": [],
   "source": [
    "#vif\n",
    "#from statsmodels.stats.outliers_influence import variance_inflation_factor\n",
    "#vif=[variance_inflation_factor(train.values,i)for i in range(train.shape[1])]\n",
    "#vif=pd.DataFrame({'VIF':vif},index=train.columns)"
   ]
  },
  {
   "cell_type": "code",
   "execution_count": null,
   "id": "c3e6ec5f",
   "metadata": {},
   "outputs": [],
   "source": [
    "#outliers"
   ]
  },
  {
   "cell_type": "code",
   "execution_count": null,
   "id": "cba5f0a8",
   "metadata": {},
   "outputs": [],
   "source": [
    "for i in salary.select_dtypes(include=np.number):\n",
    "    q1=salary[i].quantile(0.25)\n",
    "    q3=salary[i].quantile(0.75)\n",
    "    IQR=q3-q1\n",
    "    ul=q3+1.5*IQR\n",
    "    ll=q1-1.5*IQR\n",
    "    print(len(salary.loc[(salary[i]<ll)|(salary[i]>ul),i]),\"  =\",i)"
   ]
  },
  {
   "cell_type": "code",
   "execution_count": null,
   "id": "1de89de4",
   "metadata": {},
   "outputs": [],
   "source": [
    "#capping outliers --> (lower limit) and (upper limit)\n",
    "for i in salary.select_dtypes(include=np.number):\n",
    "    q1=salary[i].quantile(0.25)\n",
    "    q3=salary[i].quantile(0.75)\n",
    "    IQR=q3-q1\n",
    "    ll=q1-1.5*IQR\n",
    "    ul=q3+1.5*IQR\n",
    "    salary.loc[(salary[i]<ll),i]=ll\n",
    "    salary.loc[(salary[i]>ul),i]=ul"
   ]
  },
  {
   "cell_type": "code",
   "execution_count": null,
   "id": "f44834a2",
   "metadata": {},
   "outputs": [],
   "source": [
    "#check again outliers ....now we dont have outliers\n",
    "for i in salary.select_dtypes(include=np.number):\n",
    "    q1=salary[i].quantile(0.25)\n",
    "    q3=salary[i].quantile(0.75)\n",
    "    IQR=q3-q1\n",
    "    ul=q3+1.5*IQR\n",
    "    ll=q1-1.5*IQR\n",
    "    print(len(salary.loc[(salary[i]<ll)|(salary[i]>ul),i]),\"  =\",i)"
   ]
  },
  {
   "cell_type": "code",
   "execution_count": null,
   "id": "7191fc30",
   "metadata": {},
   "outputs": [],
   "source": [
    "salary.drop([\"self_country\",\"mother_country\",\"year_of_poll\"],axis=1,inplace=True)"
   ]
  },
  {
   "cell_type": "code",
   "execution_count": null,
   "id": "2ca1b2b7",
   "metadata": {},
   "outputs": [],
   "source": [
    "salary.head()"
   ]
  },
  {
   "cell_type": "code",
   "execution_count": null,
   "id": "ba04f49a",
   "metadata": {},
   "outputs": [],
   "source": [
    "salary.marriage_status.value_counts()"
   ]
  },
  {
   "cell_type": "code",
   "execution_count": null,
   "id": "930b78ce",
   "metadata": {},
   "outputs": [],
   "source": []
  }
 ],
 "metadata": {
  "kernelspec": {
   "display_name": "Python 3 (ipykernel)",
   "language": "python",
   "name": "python3"
  },
  "language_info": {
   "codemirror_mode": {
    "name": "ipython",
    "version": 3
   },
   "file_extension": ".py",
   "mimetype": "text/x-python",
   "name": "python",
   "nbconvert_exporter": "python",
   "pygments_lexer": "ipython3",
   "version": "3.9.7"
  }
 },
 "nbformat": 4,
 "nbformat_minor": 5
}
